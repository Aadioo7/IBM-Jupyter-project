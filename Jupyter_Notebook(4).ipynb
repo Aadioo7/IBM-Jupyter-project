{
 "cells": [
  {
   "cell_type": "markdown",
   "metadata": {},
   "source": [
    "<center>\n",
    "    <img src=\"https://cf-courses-data.s3.us.cloud-object-storage.appdomain.cloud/IBMDeveloperSkillsNetwork-DS0105EN-SkillsNetwork/labs/Module2/images/SN_web_lightmode.png\" width=\"300\" alt=\"cognitiveclass.ai logo\">\n",
    "</center>\n"
   ]
  },
  {
   "cell_type": "markdown",
   "metadata": {},
   "source": [
    "# \"My Jupyter Notebook on IBM Watson Studio\"\n"
   ]
  },
  {
   "cell_type": "markdown",
   "metadata": {},
   "source": [
    "AADITYA GUNJAL\n",
    "Data Scientist"
   ]
  },
  {
   "cell_type": "markdown",
   "metadata": {},
   "source": [
    "Data is fuel and I like to play with fuel"
   ]
  },
  {
   "cell_type": "markdown",
   "metadata": {},
   "source": [
    "Data science liabraries-\n",
    "NumPy\n",
    "Pandas\n",
    "Matplotlib\n",
    "Tensorflow"
   ]
  },
  {
   "cell_type": "markdown",
   "metadata": {},
   "source": [
    " Data Science Tools\n",
    "\n",
    "| Tool      | Description                                    |\n",
    "| --------- | ---------------------------------------------- |\n",
    "| Python    | A high-level programming language for data science that provides a rich set of libraries and frameworks for data manipulation, analysis, and visualization. |\n",
    "| SQL       | A standard programming language for managing and querying relational databases, widely used in data science for tasks such as data cleaning, filtering, and aggregation. |\n",
    "| Tableau   | A powerful data visualization tool that allows users to easily create interactive and dynamic visualizations. |\n"
   ]
  },
  {
   "cell_type": "markdown",
   "metadata": {},
   "source": [
    "Multiplication and addition of 2 numbers"
   ]
  },
  {
   "cell_type": "code",
   "execution_count": 7,
   "metadata": {},
   "outputs": [
    {
     "name": "stdout",
     "output_type": "stream",
     "text": [
      "Sum: 15\n",
      "Product: 50\n"
     ]
    }
   ],
   "source": [
    "# Define variables\n",
    "x = 5\n",
    "y = 10\n",
    "\n",
    "# Print the sum and product of the variables\n",
    "print(\"Sum:\", x + y)\n",
    "print(\"Product:\", x * y)\n"
   ]
  },
  {
   "cell_type": "code",
   "execution_count": 8,
   "metadata": {},
   "outputs": [
    {
     "name": "stdout",
     "output_type": "stream",
     "text": [
      "The number of hours is: 2.0\n"
     ]
    }
   ],
   "source": [
    "# Define a variable for the number of minutes\n",
    "minutes = 120\n",
    "\n",
    "# Convert minutes to hours\n",
    "hours = minutes / 60\n",
    "\n",
    "# Print the result\n",
    "print(\"The number of hours is:\", hours)\n"
   ]
  },
  {
   "cell_type": "markdown",
   "metadata": {},
   "source": [
    " Objectives\n",
    "\n",
    "- Learn the fundamentals of programming in Python.\n",
    "- Explore various data structures and algorithms for data manipulation and analysis.\n",
    "- Practice applying machine learning techniques to real-world datasets.\n"
   ]
  },
  {
   "cell_type": "markdown",
   "metadata": {},
   "source": [
    "Author\n",
    "\n",
    "John Smith\n"
   ]
  },
  {
   "cell_type": "code",
   "execution_count": null,
   "metadata": {},
   "outputs": [],
   "source": []
  }
 ],
 "metadata": {
  "kernelspec": {
   "display_name": "Python 3 (ipykernel)",
   "language": "python",
   "name": "python3"
  },
  "language_info": {
   "codemirror_mode": {
    "name": "ipython",
    "version": 3
   },
   "file_extension": ".py",
   "mimetype": "text/x-python",
   "name": "python",
   "nbconvert_exporter": "python",
   "pygments_lexer": "ipython3",
   "version": "3.9.12"
  }
 },
 "nbformat": 4,
 "nbformat_minor": 4
}
